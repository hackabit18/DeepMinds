{
 "cells": [
  {
   "cell_type": "code",
   "execution_count": 61,
   "metadata": {},
   "outputs": [],
   "source": [
    "import numpy as np\n",
    "import pandas as pd\n",
    "from keras.layers import Dense\n",
    "from keras.models import Sequential\n",
    "import matplotlib.pyplot as plt\n",
    "from sklearn.preprocessing import LabelEncoder, StandardScaler, OneHotEncoder\n",
    "import pickle"
   ]
  },
  {
   "cell_type": "code",
   "execution_count": 62,
   "metadata": {},
   "outputs": [],
   "source": [
    "train = np.array(pd.read_csv('../datasets/Training.csv'))\n",
    "test = np.array(pd.read_csv('../datasets/Testing.csv'))"
   ]
  },
  {
   "cell_type": "code",
   "execution_count": 63,
   "metadata": {},
   "outputs": [],
   "source": [
    "symptoms = np.array(pd.read_csv('../datasets/Training.csv').columns.values)[:-1]\n",
    "for i in range(len(symptoms)):\n",
    "    symptoms[i] = symptoms[i].replace('_', ' ')\n",
    "\n",
    "diseases = np.unique(np.array(pd.read_csv('../datasets/Training.csv'))[:, -1])\n",
    "diseases\n",
    "\n",
    "with open('SymptomsAndDiseasesList.pickle', 'wb') as f:\n",
    "    pickle.dump([symptoms, diseases], f)"
   ]
  },
  {
   "cell_type": "code",
   "execution_count": 67,
   "metadata": {},
   "outputs": [
    {
     "name": "stdout",
     "output_type": "stream",
     "text": [
      "(4920, 132) (4920,) (41, 132) (41,)\n",
      "(4920, 132) (4920, 41) (41, 132) (41, 41)\n"
     ]
    }
   ],
   "source": [
    "train_x = train[:, :-1]\n",
    "train_y = train[:, -1]\n",
    "test_x = test[:, :-1]\n",
    "test_y = test[:, -1]\n",
    "input_dim = train_x.shape[1]\n",
    "\n",
    "print(train_x.shape, train_y.shape, test_x.shape, test_y.shape)\n",
    "\n",
    "label_encoder = LabelEncoder()\n",
    "train_y = label_encoder.fit_transform(train_y)\n",
    "test_y = label_encoder.fit_transform(test_y)\n",
    "\n",
    "one_hot = OneHotEncoder(sparse=False)\n",
    "\n",
    "train_y = one_hot.fit_transform(train_y.reshape((len(train),1)))\n",
    "test_y = one_hot.fit_transform(test_y.reshape((len(test),1)))\n",
    "\n",
    "print(train_x.shape, train_y.shape, test_x.shape, test_y.shape)"
   ]
  },
  {
   "cell_type": "code",
   "execution_count": 68,
   "metadata": {},
   "outputs": [
    {
     "name": "stdout",
     "output_type": "stream",
     "text": [
      "_________________________________________________________________\n",
      "Layer (type)                 Output Shape              Param #   \n",
      "=================================================================\n",
      "dense_1 (Dense)              (None, 170)               22610     \n",
      "_________________________________________________________________\n",
      "dense_2 (Dense)              (None, 200)               34200     \n",
      "_________________________________________________________________\n",
      "dense_3 (Dense)              (None, 140)               28140     \n",
      "_________________________________________________________________\n",
      "dense_4 (Dense)              (None, 100)               14100     \n",
      "_________________________________________________________________\n",
      "dense_5 (Dense)              (None, 41)                4141      \n",
      "=================================================================\n",
      "Total params: 103,191\n",
      "Trainable params: 103,191\n",
      "Non-trainable params: 0\n",
      "_________________________________________________________________\n"
     ]
    }
   ],
   "source": [
    "model = Sequential()\n",
    "\n",
    "model.add(Dense(170, input_dim = input_dim, activation='tanh'))\n",
    "model.add(Dense(200, activation='tanh'))\n",
    "model.add(Dense(140, activation='tanh'))\n",
    "model.add(Dense(100, activation='tanh'))\n",
    "model.add(Dense(41, activation='softmax'))\n",
    "\n",
    "model.summary()"
   ]
  },
  {
   "cell_type": "code",
   "execution_count": 69,
   "metadata": {},
   "outputs": [
    {
     "name": "stdout",
     "output_type": "stream",
     "text": [
      "Epoch 1/50\n",
      "4920/4920 [==============================] - 5s 975us/step - loss: 0.8407 - acc: 0.9179\n",
      "Epoch 2/50\n",
      "4920/4920 [==============================] - 0s 75us/step - loss: 0.0247 - acc: 1.0000\n",
      "Epoch 3/50\n",
      "4920/4920 [==============================] - 0s 77us/step - loss: 0.0109 - acc: 1.0000\n",
      "Epoch 4/50\n",
      "4920/4920 [==============================] - 0s 78us/step - loss: 0.0064 - acc: 1.0000\n",
      "Epoch 5/50\n",
      "4920/4920 [==============================] - 0s 78us/step - loss: 0.0043 - acc: 1.0000: 0s - loss: 0.0048 - acc: 1.\n",
      "Epoch 6/50\n",
      "4920/4920 [==============================] - 0s 77us/step - loss: 0.0032 - acc: 1.0000\n",
      "Epoch 7/50\n",
      "4920/4920 [==============================] - 0s 77us/step - loss: 0.0024 - acc: 1.0000\n",
      "Epoch 8/50\n",
      "4920/4920 [==============================] - 0s 75us/step - loss: 0.0019 - acc: 1.0000\n",
      "Epoch 9/50\n",
      "4920/4920 [==============================] - 0s 75us/step - loss: 0.0016 - acc: 1.0000\n",
      "Epoch 10/50\n",
      "4920/4920 [==============================] - 0s 76us/step - loss: 0.0013 - acc: 1.0000\n",
      "Epoch 11/50\n",
      "4920/4920 [==============================] - 0s 75us/step - loss: 0.0011 - acc: 1.0000\n",
      "Epoch 12/50\n",
      "4920/4920 [==============================] - 0s 75us/step - loss: 9.4743e-04 - acc: 1.0000\n",
      "Epoch 13/50\n",
      "4920/4920 [==============================] - 0s 76us/step - loss: 8.2215e-04 - acc: 1.0000\n",
      "Epoch 14/50\n",
      "4920/4920 [==============================] - 0s 76us/step - loss: 7.2080e-04 - acc: 1.0000\n",
      "Epoch 15/50\n",
      "4920/4920 [==============================] - 0s 75us/step - loss: 6.3715e-04 - acc: 1.0000\n",
      "Epoch 16/50\n",
      "4920/4920 [==============================] - 0s 77us/step - loss: 5.6702e-04 - acc: 1.0000: 0s - loss: 5.7397e-04 - acc: 1.00\n",
      "Epoch 17/50\n",
      "4920/4920 [==============================] - 0s 78us/step - loss: 5.0815e-04 - acc: 1.0000\n",
      "Epoch 18/50\n",
      "4920/4920 [==============================] - 0s 88us/step - loss: 4.5747e-04 - acc: 1.0000\n",
      "Epoch 19/50\n",
      "4920/4920 [==============================] - 0s 88us/step - loss: 4.1399e-04 - acc: 1.0000\n",
      "Epoch 20/50\n",
      "4920/4920 [==============================] - 0s 85us/step - loss: 3.7622e-04 - acc: 1.0000\n",
      "Epoch 21/50\n",
      "4920/4920 [==============================] - 0s 82us/step - loss: 3.4341e-04 - acc: 1.0000\n",
      "Epoch 22/50\n",
      "4920/4920 [==============================] - 0s 74us/step - loss: 3.1438e-04 - acc: 1.0000\n",
      "Epoch 23/50\n",
      "4920/4920 [==============================] - 0s 83us/step - loss: 2.8868e-04 - acc: 1.0000\n",
      "Epoch 24/50\n",
      "4920/4920 [==============================] - 0s 84us/step - loss: 2.6597e-04 - acc: 1.0000\n",
      "Epoch 25/50\n",
      "4920/4920 [==============================] - 0s 82us/step - loss: 2.4570e-04 - acc: 1.0000\n",
      "Epoch 26/50\n",
      "4920/4920 [==============================] - 0s 83us/step - loss: 2.2749e-04 - acc: 1.0000\n",
      "Epoch 27/50\n",
      "4920/4920 [==============================] - 0s 83us/step - loss: 2.1108e-04 - acc: 1.0000\n",
      "Epoch 28/50\n",
      "4920/4920 [==============================] - 0s 75us/step - loss: 1.9630e-04 - acc: 1.0000\n",
      "Epoch 29/50\n",
      "4920/4920 [==============================] - 0s 83us/step - loss: 1.8285e-04 - acc: 1.0000\n",
      "Epoch 30/50\n",
      "4920/4920 [==============================] - 0s 79us/step - loss: 1.7064e-04 - acc: 1.0000\n",
      "Epoch 31/50\n",
      "4920/4920 [==============================] - 0s 88us/step - loss: 1.5957e-04 - acc: 1.0000\n",
      "Epoch 32/50\n",
      "4920/4920 [==============================] - 0s 82us/step - loss: 1.4933e-04 - acc: 1.0000\n",
      "Epoch 33/50\n",
      "4920/4920 [==============================] - 0s 85us/step - loss: 1.3999e-04 - acc: 1.0000\n",
      "Epoch 34/50\n",
      "4920/4920 [==============================] - 0s 77us/step - loss: 1.3141e-04 - acc: 1.0000\n",
      "Epoch 35/50\n",
      "4920/4920 [==============================] - 0s 72us/step - loss: 1.2353e-04 - acc: 1.0000: 0s - loss: 1.2674e-04 - acc: 1\n",
      "Epoch 36/50\n",
      "4920/4920 [==============================] - 0s 82us/step - loss: 1.1621e-04 - acc: 1.0000\n",
      "Epoch 37/50\n",
      "4920/4920 [==============================] - 0s 75us/step - loss: 1.0948e-04 - acc: 1.0000\n",
      "Epoch 38/50\n",
      "4920/4920 [==============================] - 0s 75us/step - loss: 1.0321e-04 - acc: 1.0000\n",
      "Epoch 39/50\n",
      "4920/4920 [==============================] - 0s 78us/step - loss: 9.7414e-05 - acc: 1.0000\n",
      "Epoch 40/50\n",
      "4920/4920 [==============================] - 0s 81us/step - loss: 9.2026e-05 - acc: 1.0000\n",
      "Epoch 41/50\n",
      "4920/4920 [==============================] - 0s 75us/step - loss: 8.7009e-05 - acc: 1.0000\n",
      "Epoch 42/50\n",
      "4920/4920 [==============================] - 0s 75us/step - loss: 8.2312e-05 - acc: 1.0000\n",
      "Epoch 43/50\n",
      "4920/4920 [==============================] - 0s 77us/step - loss: 7.7953e-05 - acc: 1.0000\n",
      "Epoch 44/50\n",
      "4920/4920 [==============================] - 0s 75us/step - loss: 7.3855e-05 - acc: 1.0000\n",
      "Epoch 45/50\n",
      "4920/4920 [==============================] - 0s 75us/step - loss: 7.0038e-05 - acc: 1.0000\n",
      "Epoch 46/50\n",
      "4920/4920 [==============================] - 0s 75us/step - loss: 6.6455e-05 - acc: 1.0000\n",
      "Epoch 47/50\n",
      "4920/4920 [==============================] - 0s 78us/step - loss: 6.3094e-05 - acc: 1.0000\n",
      "Epoch 48/50\n",
      "4920/4920 [==============================] - 0s 76us/step - loss: 5.9918e-05 - acc: 1.0000\n",
      "Epoch 49/50\n",
      "4920/4920 [==============================] - 0s 78us/step - loss: 5.6953e-05 - acc: 1.0000\n",
      "Epoch 50/50\n",
      "4920/4920 [==============================] - 0s 77us/step - loss: 5.4152e-05 - acc: 1.0000\n",
      "41/41 [==============================] - 0s 1ms/step\n"
     ]
    }
   ],
   "source": [
    "model.compile(loss='categorical_crossentropy', optimizer='adam', metrics=['accuracy'])\n",
    "model.fit(train_x, train_y, epochs=50, batch_size=64)\n",
    "scores = model.evaluate(test_x, test_y)"
   ]
  },
  {
   "cell_type": "code",
   "execution_count": 73,
   "metadata": {},
   "outputs": [
    {
     "name": "stdout",
     "output_type": "stream",
     "text": [
      "acc = 100.0\n"
     ]
    }
   ],
   "source": [
    "print(model.metrics_names[1], \"=\", scores[1] * 100)"
   ]
  },
  {
   "cell_type": "code",
   "execution_count": 74,
   "metadata": {},
   "outputs": [],
   "source": [
    "model.save(\"DiseasePredictor.h5\")"
   ]
  },
  {
   "cell_type": "code",
   "execution_count": null,
   "metadata": {},
   "outputs": [],
   "source": []
  }
 ],
 "metadata": {
  "kernelspec": {
   "display_name": "Python 3",
   "language": "python",
   "name": "python3"
  },
  "language_info": {
   "codemirror_mode": {
    "name": "ipython",
    "version": 3
   },
   "file_extension": ".py",
   "mimetype": "text/x-python",
   "name": "python",
   "nbconvert_exporter": "python",
   "pygments_lexer": "ipython3",
   "version": "3.6.5"
  }
 },
 "nbformat": 4,
 "nbformat_minor": 2
}
